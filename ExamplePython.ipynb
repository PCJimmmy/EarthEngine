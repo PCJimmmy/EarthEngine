{
 "cells": [
  {
   "cell_type": "code",
   "execution_count": 1,
   "metadata": {},
   "outputs": [],
   "source": [
    "import ee # Earth Engine.\n",
    "from IPython import display\n",
    "import math\n",
    "from matplotlib import pyplot\n",
    "import numpy\n",
    "#from osgeo import gdal\n",
    "import tempfile\n",
    "#import tensorflow as tf\n",
    "import urllib\n",
    "import zipfile\n",
    "# Display preview image in Jupyter Notebook.\n",
    "from IPython.display import Image, display, HTML"
   ]
  },
  {
   "cell_type": "code",
   "execution_count": 2,
   "metadata": {},
   "outputs": [],
   "source": [
    "# start the earth engine connection.\n",
    "ee.Initialize()\n",
    "\n",
    "# Read in four data collections: \n",
    "#    SRTM 30m resolution, \n",
    "#    Sentinel-2 data\n",
    "#    a rough flow accumulation data set on a 90m scale.\n",
    "SRTM3 = ee.Image('USGS/SRTMGL1_003');\n",
    "s2 = ee.ImageCollection('COPERNICUS/S2');\n",
    "fa_90m = ee.Image(\"users/gena/GlobalHAND/90m-global/fa\").convolve(ee.Kernel.gaussian(20, 5));\n",
    "\n",
    "# A few locations:\n",
    "#  0 Fort Stockton, 1 Sudan stripes, 2 Somali Haud, 3 McDonnell Range Australia\n",
    "point_list = [[-103.080477, 31.060309], [28.271546, 11.174898], [47.63, 7.86], [133.794021, -23.4847]]"
   ]
  },
  {
   "cell_type": "code",
   "execution_count": 3,
   "metadata": {
    "collapsed": true
   },
   "outputs": [],
   "source": [
    "# Define an MSAVI2 function.  MSAVI2 is a vegetation index.\n",
    "def addMSAVI2(image):\n",
    "    # This function adds an 'MSAVI2' band to Sentinel images.\n",
    "    # Note that the band number associated with a given wavelength\n",
    "    #   is specific to each satellite, so B8 is near infrared for Sentinel-2\n",
    "    #   but not for Landsat-7 or Landsat-8.\n",
    "  return (image.addBands(image.expression(\n",
    "  '1/2 * ((2*(NIR+1)) - (((2*NIR)+1)**2 - 8*(NIR-RED))**(1/2))', {\n",
    "      'NIR':image.select('B8'),\n",
    "      'RED':image.select('B4')}\n",
    "      ).rename(['MSAVI2'])));\n",
    "\n",
    "# Define a SAVI function, adding a SAVI band to each Sentinel image.\n",
    "def addSAVI(image):\n",
    "  return (image.addBands(image.expression(\n",
    "  '(1 + L) * float(nir - red)/ (nir + red + L)', {\n",
    "      'nir':image.select('B8'),\n",
    "      'red':image.select('B4'),\n",
    "      'L': 1.0}\n",
    "      ).rename(['SAVI'])));\n",
    "\n",
    "# Define a function to create a radius around each location specified above.\n",
    "# The buffer appears to be measured in meters.\n",
    "buffersize = 5000;\n",
    "def addbuffer(f): \n",
    "    return f.buffer(buffersize);\n",
    "\n",
    "# Set up a nice palette for displaying vegetation index.\n",
    "fmaskPalette2 = ','.join(['FFFFFF', 'CE7E45', 'DF923D', 'F1B555', 'FCD163', '99B718',\n",
    "      '74A901', '66A000', '529400', '3E8601', '207401', '056201',\n",
    "      '004C00', '023B01', '012E01', '011D01', '011301'])\n",
    "\n",
    "# Setup a nice palette for displaying data using four gradations.\n",
    "# Color from colorbrewer2:\n",
    "# http://colorbrewer2.org/#type=sequential&scheme=Blues&n=4\n",
    "fmaskPaletteFA = ','.join(['eff3ff','bdd7e7','6baed6', '2171b5'])"
   ]
  },
  {
   "cell_type": "code",
   "execution_count": 4,
   "metadata": {
    "collapsed": true
   },
   "outputs": [],
   "source": [
    "# Setup a feature collection for the region of interest\n",
    "\n",
    "# Choose one of the locations from point_list.\n",
    "point_index = 0\n",
    "point_long = point_list[point_index][0]\n",
    "point_lat = point_list[point_index][1]\n",
    "point = ee.Geometry.Point(point_long, point_lat);\n",
    "\n",
    "# Add a buffer to the point.\n",
    "region = point.buffer(5000).bounds().getInfo()['coordinates'];\n",
    "\n",
    "# Turn the geometric object into a feature object\n",
    "feature = ee.Feature(ee.Geometry.Point(point_long,point_lat));\n",
    "\n",
    "# Turn the feature object into a feature collection\n",
    "fc = ee.FeatureCollection(feature).map(addbuffer);"
   ]
  },
  {
   "cell_type": "code",
   "execution_count": 9,
   "metadata": {},
   "outputs": [
    {
     "name": "stdout",
     "output_type": "stream",
     "text": [
      "S2size: 26\n",
      "https://earthengine.googleapis.com/api/thumb?thumbid=8a5ad469497de811f95409b0837fa928&token=3fe00355f8e5b1547a7641ead008878c\n"
     ]
    },
    {
     "data": {
      "text/html": [
       "<img src=\"https://earthengine.googleapis.com/api/thumb?thumbid=8a5ad469497de811f95409b0837fa928&token=3fe00355f8e5b1547a7641ead008878c\"/>"
      ],
      "text/plain": [
       "<IPython.core.display.Image object>"
      ]
     },
     "metadata": {},
     "output_type": "display_data"
    }
   ],
   "source": [
    "# Working version: display SAVI values over a region.\n",
    "# Specify a date range that will be used to filter the Sentinel-2 data to specific\n",
    "#   time periods.\n",
    "startdate = '2015-01-01'\n",
    "enddate = '2017-04-30'\n",
    "\n",
    "# Filter the Sentinel-2 imagery by startdate and location to create a filtered collection.\n",
    "#  All images that overlap the region in fc will be included.\n",
    "S2 = (s2.filterDate(startdate, enddate).filterBounds(fc));\n",
    "\n",
    "# print the number of images in the filtered collection\n",
    "print 'S2size:', S2.size().getInfo()\n",
    "\n",
    "# S2 = S2.map(addMSAVI2);\n",
    "# Add the SAVI band to every image from the filtered collection.\n",
    "S2 = S2.map(addSAVI);\n",
    "\n",
    "# Select the least cloudy image and the MSAVI2 band.\n",
    "# S2_0 = ee.Image(S2.sort('CLOUDY_PIXEL_PERCENTAGE', True).first());\n",
    "\n",
    "# Select the maximum pixel value over the time period for each band.\n",
    "S2_0 = ee.Image(S2.max());\n",
    "bands = ['SAVI']\n",
    "\n",
    "# Filter to just the SAVI band and clip the boundaries to the region of interest.\n",
    "S2_1 = S2_0.select(bands).clip(fc)\n",
    "\n",
    "# Display preview image in Jupyter Notebook.\n",
    "from IPython.display import Image, display, HTML\n",
    "\n",
    "# Set up the image specifications.  SAVI ranges from 0 to 1.\n",
    "vis = {\n",
    "  'min': 0,\n",
    "  'max': 1,\n",
    "  'region': region,\n",
    "  'format': 'png',\n",
    "  'size': '300',\n",
    "  'palette': fmaskPalette2};\n",
    "\n",
    "# Make the image at a URL\n",
    "th3 = S2_1.getThumbUrl(vis)\n",
    "\n",
    "# Print the URL where the image can be (temporarily) accessed\n",
    "print th3\n",
    "\n",
    "# Also display the image in the notebook.\n",
    "img_thumb = Image(url=th3)\n",
    "display(img_thumb)"
   ]
  },
  {
   "cell_type": "code",
   "execution_count": 6,
   "metadata": {},
   "outputs": [
    {
     "name": "stdout",
     "output_type": "stream",
     "text": [
      "https://earthengine.googleapis.com/api/thumb?thumbid=225a7b0e6ed2846d56e04c3a1c39b522&token=119b3863d28e89d37c2e1697a9b3f28b\n"
     ]
    },
    {
     "data": {
      "text/html": [
       "<img src=\"https://earthengine.googleapis.com/api/thumb?thumbid=225a7b0e6ed2846d56e04c3a1c39b522&token=119b3863d28e89d37c2e1697a9b3f28b\"/>"
      ],
      "text/plain": [
       "<IPython.core.display.Image object>"
      ]
     },
     "metadata": {},
     "output_type": "display_data"
    }
   ],
   "source": [
    "# The CRS varies with band choice.\n",
    "# EPSG:4326 is a standard one\n",
    "# EPSG:32613 will be a circle\n",
    "\n",
    "vis2 = {#'crs': 'EPSG:32613',\n",
    "  'min': 0,\n",
    "  'max': 5000,\n",
    "  'region': region,\n",
    "  'format': 'png',\n",
    "  'size': '300',\n",
    "  'palette': fmaskPaletteFA};\n",
    "\n",
    "# Turn the flow accumulation dataset into a mask\n",
    "#  Subtract 10 to recenter it, and multiply by 0.4 to rescale it.\n",
    "mask = fa_90m.clip(fc).subtract(10).multiply(0.4);\n",
    "\n",
    "# Make the masked image of the fa_90m data.\n",
    "th3 = fa_90m.clip(fc).mask(mask).getThumbUrl(vis2)\n",
    "print th3\n",
    "\n",
    "# Display the image.\n",
    "img_thumb = Image(url=th3)\n",
    "display(img_thumb)"
   ]
  },
  {
   "cell_type": "code",
   "execution_count": 31,
   "metadata": {},
   "outputs": [
    {
     "name": "stdout",
     "output_type": "stream",
     "text": [
      "https://earthengine.googleapis.com/api/thumb?thumbid=db9259705cf61d9cb2cb6212104cebf4&token=2b4bc2d70bfda0d5231f91167a753ea5\n"
     ]
    },
    {
     "data": {
      "text/html": [
       "<img src=\"https://earthengine.googleapis.com/api/thumb?thumbid=db9259705cf61d9cb2cb6212104cebf4&token=2b4bc2d70bfda0d5231f91167a753ea5\"/>"
      ],
      "text/plain": [
       "<IPython.core.display.Image object>"
      ]
     },
     "metadata": {},
     "output_type": "display_data"
    }
   ],
   "source": [
    "# An image that uses 'B4': red, 'B3': green, 'B2': blue as\n",
    "#  the bands to display.\n",
    "\n",
    "# Filter to choose the median value of the band over the time period specified before.\n",
    "S2_2 = ee.Image(S2.median());\n",
    "\n",
    "# Define the visualization parameters.\n",
    "visParams = {#'crs': 'EPSG:32613',\n",
    "  'min': 0,\n",
    "  'max': 3500,\n",
    "  'region': region,\n",
    "  'format': 'png',\n",
    "  'size': '300',\n",
    "  #'gamma': [0.95, 1.1, 1],\n",
    "  'bands': 'B4, B3, B2'};\n",
    "\n",
    "th4 = S2_2.clip(fc).getThumbUrl(visParams)\n",
    "print th4\n",
    "\n",
    "# Display the image.\n",
    "img_thumb = Image(url=th4)\n",
    "display(img_thumb)\n"
   ]
  },
  {
   "cell_type": "code",
   "execution_count": null,
   "metadata": {
    "collapsed": true
   },
   "outputs": [],
   "source": [
    "\n",
    "\n"
   ]
  }
 ],
 "metadata": {
  "anaconda-cloud": {},
  "kernelspec": {
   "display_name": "Python 2",
   "language": "python",
   "name": "python2"
  },
  "language_info": {
   "codemirror_mode": {
    "name": "ipython",
    "version": 2
   },
   "file_extension": ".py",
   "mimetype": "text/x-python",
   "name": "python",
   "nbconvert_exporter": "python",
   "pygments_lexer": "ipython2",
   "version": "2.7.13"
  }
 },
 "nbformat": 4,
 "nbformat_minor": 1
}
